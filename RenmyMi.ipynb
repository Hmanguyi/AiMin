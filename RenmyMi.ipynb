{
  "cells": [
    {
      "cell_type": "markdown",
      "metadata": {
        "id": "view-in-github",
        "colab_type": "text"
      },
      "source": [
        "<a href=\"https://colab.research.google.com/github/Hmanguyi/AiMin/blob/main/RenmyMi.ipynb\" target=\"_parent\"><img src=\"https://colab.research.google.com/assets/colab-badge.svg\" alt=\"Open In Colab\"/></a>"
      ]
    },
    {
      "cell_type": "markdown",
      "id": "f2e00a27-64ef-4431-967e-940768fda8fa",
      "metadata": {
        "id": "f2e00a27-64ef-4431-967e-940768fda8fa"
      },
      "source": [
        "# Getting started with Mistral AI API"
      ]
    },
    {
      "cell_type": "code",
      "execution_count": null,
      "id": "2868793c-9065-459a-9a8e-214c31b98f1d",
      "metadata": {
        "id": "2868793c-9065-459a-9a8e-214c31b98f1d"
      },
      "outputs": [],
      "source": [
        "from fastapi import FastAPI, File, UploadFile\n",
        "import base64\n",
        "import uvicorn\n",
        "import nest_asyncio\n",
        "from mistralai import Mistral\n",
        "\n",
        "# Apply nest_asyncio for Jupyter Notebook (if running in a notebook)\n",
        "nest_asyncio.apply()\n",
        "\n",
        "app = FastAPI()\n",
        "\n",
        "# Your Mistral API key and model\n",
        "API_KEY = \"6pdlTRLqX2GhuEjgrtNJqwAhBWm8Yy6M\"\n",
        "MODEL = \"pixtral-12b-2409\"\n",
        "client = Mistral(api_key=API_KEY)\n",
        "\n",
        "def encode_image(file_bytes):\n",
        "    \"\"\"Convert an image in bytes to base64.\"\"\"\n",
        "    return base64.b64encode(file_bytes).decode('utf-8')\n",
        "\n",
        "@app.post(\"/classify/\")\n",
        "async def classify_image(file: UploadFile = File(...)):\n",
        "    \"\"\"Receives an image, sends it to Mistral, and returns classification.\"\"\"\n",
        "    try:\n",
        "        # Read file as bytes first\n",
        "        file_bytes = await file.read()\n",
        "\n",
        "        # Encode image correctly\n",
        "        base64_image = encode_image(file_bytes)\n",
        "\n",
        "        # Define messages for Mistral API\n",
        "        messages = [\n",
        "            {\n",
        "                \"role\": \"user\",\n",
        "                \"content\": [\n",
        "                    {\n",
        "                        \"type\": \"text\",\n",
        "                        \"text\": \"is it food,is it recycleable plastic? one word\"\n",
        "                    },\n",
        "                    {\n",
        "                        \"type\": \"image_url\",\n",
        "                        \"image_url\": f\"data:image/jpeg;base64,{base64_image}\"\n",
        "                    }\n",
        "                ]\n",
        "            }\n",
        "        ]\n",
        "\n",
        "        # Get response from Mistral AI\n",
        "        chat_response = client.chat.complete(\n",
        "            model=MODEL,\n",
        "            messages=messages\n",
        "        )\n",
        "\n",
        "        # Extract classification result\n",
        "        classification = chat_response.choices[0].message.content.strip()\n",
        "\n",
        "        return {\"classification\": classification}\n",
        "\n",
        "    except Exception as e:\n",
        "        return {\"error\": str(e)}\n",
        "\n",
        "# To run the app using Uvicorn (locally)\n",
        "# uvicorn.run(app, host=\"0.0.0.0\", port=5000)\n"
      ]
    }
  ],
  "metadata": {
    "colab": {
      "provenance": [],
      "include_colab_link": true
    },
    "kernelspec": {
      "display_name": "Python 3 (ipykernel)",
      "language": "python",
      "name": "python3"
    },
    "language_info": {
      "codemirror_mode": {
        "name": "ipython",
        "version": 3
      },
      "file_extension": ".py",
      "mimetype": "text/x-python",
      "name": "python",
      "nbconvert_exporter": "python",
      "pygments_lexer": "ipython3",
      "version": "3.11.8"
    }
  },
  "nbformat": 4,
  "nbformat_minor": 5
}